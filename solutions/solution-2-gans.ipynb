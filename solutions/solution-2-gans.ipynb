{
 "cells": [
  {
   "attachments": {},
   "cell_type": "markdown",
   "metadata": {},
   "source": [
    "# Generating LHC data with GANs"
   ]
  },
  {
   "attachments": {},
   "cell_type": "markdown",
   "metadata": {},
   "source": [
    "Here, we learn using Generative Adverserial Networks (GANs) to generate LHC data."
   ]
  },
  {
   "attachments": {},
   "cell_type": "markdown",
   "metadata": {},
   "source": [
    "Background:\n",
    "- Simulations for LHC physics is a major computational task at the experiment, and will become more computationally intensive in the coming years, so if ML techniques can speed up some aspects of this then it would be very useful\n",
    "- As a proof of concept, we will show how a GAN can be optimized to generate events simulated by traditional high energy physics simulation software\n",
    "- The process we are studying is Drell-Yan: $pp\\rightarrow Z\\rightarrow \\mu\\mu$\n",
    "- Naively, the dimension of this phase space is 8D, the 4 momentum of the two final state particles\n",
    "- A GAN consists of a generative network and an adverserial network, trained through a min-max optimisation procedure\n",
    "- The generative network samples random noise from a unit Normal distribution, passes it through a dense fully connected network to produce an 8D output\n",
    "- The adverserial network then tries to classify between the generated data and the real data, and the generator is trained such that this adverserial network cannot classify between the generated data and the truth data anymore."
   ]
  },
  {
   "attachments": {},
   "cell_type": "markdown",
   "metadata": {},
   "source": [
    "Interesting papers:\n",
    "- Generative Adverserial Networks\n",
    "    - Ian J. Goodfellow, Jean Pouget-Abadie, Mehdi Mirza, Bing Xu, David Warde-Farley, Sherjil Ozair, Aaron Courville, Yoshua Bengio\n",
    "    - https://arxiv.org/abs/1406.2661\n",
    "- How to GAN LHC events\n",
    "    - Anja Butter, Tilman Plehn, Ramon Winterhalder\n",
    "    - https://arxiv.org/abs/1907.03764\n",
    "- How to GAN : Novel simulation methods for the LHC\n",
    "    - Ramon Winterhalder\n",
    "    - PhD thesis: https://inspirehep.net/literature/1839755"
   ]
  },
  {
   "attachments": {},
   "cell_type": "markdown",
   "metadata": {},
   "source": [
    "Outline:\n",
    "- Imports and plotting set-up\n",
    "- Study the data\n",
    "- Datasets and dataloaders\n",
    "- Building the GAN\n",
    "- Optimising the GAN\n",
    "- Study the results - let's generate some events!\n",
    "- Removing redundant degrees of freedom\n",
    "- Optimising the GAN on the reduced data\n",
    "- Study the new results\n",
    "- Concluding remarks"
   ]
  },
  {
   "attachments": {},
   "cell_type": "markdown",
   "metadata": {},
   "source": [
    "Some tips:\n",
    "- GANs can require some thought in optimising them\n",
    "- They need regularisation\n",
    "- This is due to the min-max nature of the loss function\n",
    "    - improving the generative network leads to a worsening of the classifier\n",
    "- Most practical pytorch skills you need for this work is covered in the basics tutorial at https://pytorch.org/tutorials/beginner/basics/intro.html."
   ]
  },
  {
   "attachments": {},
   "cell_type": "markdown",
   "metadata": {},
   "source": [
    "## Imports"
   ]
  },
  {
   "cell_type": "code",
   "execution_count": 1,
   "metadata": {},
   "outputs": [],
   "source": [
    "import os\n",
    "import sys\n",
    "import random\n",
    "import time\n",
    "import numpy as np\n",
    "import torch\n",
    "from torch.utils.data import Dataset\n",
    "from torch.utils.data import DataLoader\n",
    "from torch import nn\n",
    "from torch.nn import functional as F\n",
    "from torch.nn import Sequential, Linear, ReLU\n",
    "from torch.nn.utils import spectral_norm"
   ]
  },
  {
   "attachments": {},
   "cell_type": "markdown",
   "metadata": {},
   "source": [
    "### Plotting set-up"
   ]
  },
  {
   "cell_type": "code",
   "execution_count": 2,
   "metadata": {},
   "outputs": [],
   "source": [
    "from matplotlib import pyplot as plt\n",
    "import matplotlib\n",
    "import warnings\n",
    "warnings.filterwarnings(\"ignore\")\n",
    "from matplotlib.lines import Line2D\n",
    "from matplotlib.font_manager import FontProperties\n",
    "import matplotlib.colors as mcolors\n",
    "import colorsys\n",
    "\n",
    "# global plotting settings\n",
    "FONTSIZE = 18\n",
    "\n",
    "# matplotlib settings\n",
    "plt.show()\n",
    "plt.rc(\"font\", family=\"serif\", size=FONTSIZE, serif=\"Charter\")\n",
    "plt.rc(\"axes\", titlesize=\"medium\")\n",
    "plt.rc(\"text.latex\", preamble=r\"\\usepackage{amsmath}\\usepackage[bitstream-charter]{mathdesign}\")\n",
    "plt.rc(\"text\", usetex=True)\n",
    "\n",
    "# colors\n",
    "colors = [f\"C{i}\" for i in range(5)]"
   ]
  },
  {
   "cell_type": "code",
   "execution_count": null,
   "metadata": {},
   "outputs": [],
   "source": [
    "# global plotting settings\n",
    "FONTSIZE = 18\n",
    "\n",
    "# matplotlib settings\n",
    "plt.show()\n",
    "plt.rc(\"font\", family=\"serif\", size=FONTSIZE, serif=\"Charter\")\n",
    "plt.rc(\"axes\", titlesize=\"medium\")\n",
    "plt.rc(\"text.latex\", preamble=r\"\\usepackage{amsmath}\\usepackage[bitstream-charter]{mathdesign}\")\n",
    "plt.rc(\"text\", usetex=True)\n",
    "\n",
    "# colors\n",
    "colors = [f\"C{i}\" for i in range(5)]"
   ]
  },
  {
   "attachments": {},
   "cell_type": "markdown",
   "metadata": {},
   "source": [
    "## Loading the data"
   ]
  },
  {
   "attachments": {},
   "cell_type": "markdown",
   "metadata": {},
   "source": [
    "We can load the data from here:"
   ]
  },
  {
   "cell_type": "code",
   "execution_count": 3,
   "metadata": {},
   "outputs": [],
   "source": [
    "dy_trn_data = np.load( 'datasets/tutorial-2-data/dy_trn_data.npy' )\n",
    "dy_val_data = np.load( 'datasets/tutorial-2-data/dy_val_data.npy' )\n",
    "dy_tst_data = np.load( 'datasets/tutorial-2-data/dy_tst_data.npy' )"
   ]
  },
  {
   "cell_type": "code",
   "execution_count": 4,
   "metadata": {},
   "outputs": [
    {
     "data": {
      "text/plain": [
       "((1384081, 8), (296588, 8), (296588, 8))"
      ]
     },
     "execution_count": 4,
     "metadata": {},
     "output_type": "execute_result"
    }
   ],
   "source": [
    "dy_trn_data.shape, dy_val_data.shape, dy_tst_data.shape"
   ]
  },
  {
   "attachments": {},
   "cell_type": "markdown",
   "metadata": {},
   "source": [
    "Each element of the data has 8 entries, corresponding to the 4-momenta of each muon in the process.\n",
    "\n",
    "Each entry has the form $[E_1, p_{x,1}, p_{y,1}, p_{z,1}, E_2, p_{x,2}, p_{y,2}, p_{z,2}]$."
   ]
  },
  {
   "attachments": {},
   "cell_type": "markdown",
   "metadata": {},
   "source": [
    "## Study the data"
   ]
  },
  {
   "attachments": {},
   "cell_type": "markdown",
   "metadata": {},
   "source": [
    "We need to be able to calculate the invariant mass of each event, and the $p_T$ of the event and the jets.\n",
    "\n",
    "Let's write a function for this:"
   ]
  },
  {
   "cell_type": "code",
   "execution_count": 340,
   "metadata": {},
   "outputs": [],
   "source": [
    "def get_obs( event ):\n",
    "    \n",
    "    jet1_4m = event[:,0:4]\n",
    "    jet2_4m = event[:,4:]\n",
    "    evnt_4m = np.sum( (jet1_4m,jet2_4m), axis=0 )\n",
    "    \n",
    "    evnt_im = np.sqrt( np.sum( ( evnt_4m[:,0]**2, -evnt_4m[:,1]**2, -evnt_4m[:,2]**2, -evnt_4m[:,3]**2 ), axis=0 ) )\n",
    "    \n",
    "    evnt_pt = np.sqrt( evnt_4m[:,1]**2 + evnt_4m[:,2]**2 )\n",
    "    jet1_pt = np.sqrt( jet1_4m[:,1]**2 + jet1_4m[:,2]**2 )\n",
    "    jet2_pt = np.sqrt( jet2_4m[:,1]**2 + jet2_4m[:,2]**2 )\n",
    "    \n",
    "    return evnt_im, evnt_pt, jet1_pt, jet2_pt"
   ]
  },
  {
   "attachments": {},
   "cell_type": "markdown",
   "metadata": {},
   "source": [
    "Now test it:"
   ]
  },
  {
   "cell_type": "code",
   "execution_count": 6,
   "metadata": {},
   "outputs": [
    {
     "data": {
      "text/plain": [
       "(array([90.98955316, 91.3711254 ]),\n",
       " array([0., 0.]),\n",
       " array([44.32344982, 35.10745113]),\n",
       " array([44.32344982, 35.10745113]))"
      ]
     },
     "execution_count": 6,
     "metadata": {},
     "output_type": "execute_result"
    }
   ],
   "source": [
    "get_obs( dy_trn_data[0:2] )"
   ]
  },
  {
   "attachments": {},
   "cell_type": "markdown",
   "metadata": {},
   "source": [
    "The $p_T$ of the events will always be zero here due to the fact that the initial incoming protons have no transverse momentum."
   ]
  },
  {
   "attachments": {},
   "cell_type": "markdown",
   "metadata": {},
   "source": [
    "Let's get the observables for the whole dataset:"
   ]
  },
  {
   "cell_type": "code",
   "execution_count": 7,
   "metadata": {},
   "outputs": [],
   "source": [
    "trn_evnt_ims, trn_evnt_pts, trn_jet1_pts, trn_jet2_pts = get_obs( dy_trn_data )\n",
    "val_evnt_ims, val_evnt_pts, val_jet1_pts, val_jet2_pts = get_obs( dy_val_data )\n",
    "tst_evnt_ims, tst_evnt_pts, tst_jet1_pts, tst_jet2_pts = get_obs( dy_tst_data )"
   ]
  },
  {
   "cell_type": "code",
   "execution_count": 328,
   "metadata": {},
   "outputs": [
    {
     "data": {
      "text/plain": [
       "(1384081,)"
      ]
     },
     "execution_count": 328,
     "metadata": {},
     "output_type": "execute_result"
    }
   ],
   "source": [
    "trn_evnt_ims.shape"
   ]
  },
  {
   "attachments": {},
   "cell_type": "markdown",
   "metadata": {},
   "source": [
    "Let's plot the invariant mass of the events:"
   ]
  },
  {
   "cell_type": "code",
   "execution_count": 9,
   "metadata": {},
   "outputs": [
    {
     "data": {
      "image/png": "[encoded data removed]",
      "text/plain": [
       "<Figure size 432x360 with 1 Axes>"
      ]
     },
     "metadata": {
      "needs_background": "light"
     },
     "output_type": "display_data"
    }
   ],
   "source": [
    "fig, axs = plt.subplots( figsize=(6,5) )\n",
    "\n",
    "axs.hist( trn_evnt_ims, alpha=0.5, density=True, bins=15 )\n",
    "\n",
    "axs.set_xlabel( \"$m_{\\mu\\mu}$ [GeV]\")\n",
    "axs.set_ylabel( \"\\#events\")\n",
    "\n",
    "yticks = [  ]\n",
    "axs.set_yticklabels( yticks)\n",
    "\n",
    "xticks = [ int(x) for x in axs.get_xticks() ]\n",
    "axs.set_xticklabels( xticks)\n",
    "\n",
    "fig.tight_layout()\n",
    "fig.show()"
   ]
  },
  {
   "attachments": {},
   "cell_type": "markdown",
   "metadata": {},
   "source": [
    "Here we see the clear $Z$ mass peak at $\\simeq 90$ GeV."
   ]
  },
  {
   "attachments": {},
   "cell_type": "markdown",
   "metadata": {},
   "source": [
    "Now let's look at $p_T$ distributions:"
   ]
  },
  {
   "cell_type": "code",
   "execution_count": 10,
   "metadata": {},
   "outputs": [
    {
     "data": {
      "image/png": "[encoded data removed]",
      "text/plain": [
       "<Figure size 432x360 with 1 Axes>"
      ]
     },
     "metadata": {
      "needs_background": "light"
     },
     "output_type": "display_data"
    }
   ],
   "source": [
    "fig, axs = plt.subplots( figsize=(6,5) )\n",
    "\n",
    "axs.hist( trn_jet1_pts, alpha=0.5, density=True, bins=15 )\n",
    "axs.hist( trn_jet2_pts, alpha=0.5, density=True, bins=15 )\n",
    "\n",
    "axs.set_xlabel( \"$p_\\text{T}$ [GeV]\")\n",
    "axs.set_ylabel( \"\\#events\")\n",
    "\n",
    "yticks = [  ]\n",
    "axs.set_yticklabels(yticks)\n",
    "\n",
    "xticks = [ int(x) for x in axs.get_xticks() ]\n",
    "axs.set_xticklabels( xticks)\n",
    "\n",
    "fig.tight_layout()\n",
    "fig.show()"
   ]
  },
  {
   "attachments": {},
   "cell_type": "markdown",
   "metadata": {},
   "source": [
    "These distributions are completely overlapping with a peak near $m_{\\mu\\mu}/2$."
   ]
  },
  {
   "attachments": {},
   "cell_type": "markdown",
   "metadata": {},
   "source": [
    "## Datasets and dataloaders"
   ]
  },
  {
   "attachments": {},
   "cell_type": "markdown",
   "metadata": {},
   "source": [
    "This time we only need the dataloader to return the data, no labels, so it's pretty simple."
   ]
  },
  {
   "cell_type": "code",
   "execution_count": 11,
   "metadata": {},
   "outputs": [],
   "source": [
    "class drell_yan_data( Dataset ):\n",
    "    \n",
    "    def __init__( self, data ):\n",
    "        self.data = data\n",
    "\n",
    "    def __len__(self):\n",
    "        return self.data.shape[0]\n",
    "\n",
    "    def __getitem__(self, idx):\n",
    "        return self.data[idx]"
   ]
  },
  {
   "attachments": {},
   "cell_type": "markdown",
   "metadata": {},
   "source": [
    "Let's normalise the data a little bit by dividing all dimensionful quantities by $100$ GeV."
   ]
  },
  {
   "cell_type": "code",
   "execution_count": 12,
   "metadata": {},
   "outputs": [],
   "source": [
    "dy_trn_data_p = torch.Tensor( dy_trn_data / 100 )\n",
    "dy_val_data_p = torch.Tensor( dy_val_data / 100 )\n",
    "dy_tst_data_p = torch.Tensor( dy_tst_data / 100 )"
   ]
  },
  {
   "cell_type": "code",
   "execution_count": 13,
   "metadata": {},
   "outputs": [],
   "source": [
    "trn_dataset = drell_yan_data( dy_trn_data_p )\n",
    "val_dataset = drell_yan_data( dy_val_data_p )\n",
    "tst_dataset = drell_yan_data( dy_tst_data_p )"
   ]
  },
  {
   "attachments": {},
   "cell_type": "markdown",
   "metadata": {},
   "source": [
    "Using a bigger batch size this time, this helps for generative networks."
   ]
  },
  {
   "cell_type": "code",
   "execution_count": 14,
   "metadata": {},
   "outputs": [],
   "source": [
    "trn_dataloader = DataLoader( trn_dataset, batch_size=2500, shuffle=True )\n",
    "val_dataloader = DataLoader( val_dataset, batch_size=2500, shuffle=True )\n",
    "tst_dataloader = DataLoader( tst_dataset, batch_size=2500, shuffle=True )"
   ]
  },
  {
   "attachments": {},
   "cell_type": "markdown",
   "metadata": {},
   "source": [
    "## Building the GAN"
   ]
  },
  {
   "attachments": {},
   "cell_type": "markdown",
   "metadata": {},
   "source": [
    "We need two networks, a generative network and an adverserial network:"
   ]
  },
  {
   "cell_type": "code",
   "execution_count": 118,
   "metadata": {},
   "outputs": [],
   "source": [
    "class drellGAN_gen( torch.nn.Module ):\n",
    "    \n",
    "    def __init__( self, data_dim, latent_dim, hiddenlayer_size ):\n",
    "        super( drellGAN_gen, self ).__init__()\n",
    "        \n",
    "        self.latent_dim = latent_dim\n",
    "        \n",
    "        self.layer1 = nn.Linear( latent_dim, hiddenlayer_size )\n",
    "        self.relu_1 = nn.LeakyReLU(0.1)\n",
    "        self.layer2 = nn.Linear( hiddenlayer_size, hiddenlayer_size )\n",
    "        self.relu_2 = nn.LeakyReLU(0.1)\n",
    "        self.layer3 = nn.Linear( hiddenlayer_size, hiddenlayer_size )\n",
    "        self.relu_3 = nn.LeakyReLU(0.1)\n",
    "        self.layer4 = nn.Linear( hiddenlayer_size, data_dim )\n",
    "        \n",
    "    def forward( self, batch ):\n",
    "        \n",
    "        x = self.layer1( batch )\n",
    "        x = self.relu_1( x )\n",
    "        x = self.layer2( x )\n",
    "        x = self.relu_2( x )\n",
    "        x = self.layer3( x )\n",
    "        x = self.relu_3( x )\n",
    "        x = self.layer4( x )\n",
    "        \n",
    "        return x"
   ]
  },
  {
   "cell_type": "code",
   "execution_count": 130,
   "metadata": {},
   "outputs": [],
   "source": [
    "class drellGAN_dis( torch.nn.Module ):\n",
    "    \n",
    "    def __init__( self, data_dim, hiddenlayer_size ):\n",
    "        super( drellGAN_dis, self ).__init__()\n",
    "                \n",
    "        self.layer1 = spectral_norm( nn.Linear( data_dim, hiddenlayer_size ), n_power_iterations=2 ) \n",
    "        self.relu_1 = nn.LeakyReLU(0.1)\n",
    "        self.layer2 = spectral_norm( nn.Linear( hiddenlayer_size, hiddenlayer_size ), n_power_iterations=2 )\n",
    "        self.relu_2 = nn.LeakyReLU(0.1)\n",
    "        self.layer3 = spectral_norm( nn.Linear( hiddenlayer_size, hiddenlayer_size ), n_power_iterations=2 )\n",
    "        self.relu_3 = nn.LeakyReLU(0.1)\n",
    "        self.layer4 = spectral_norm( nn.Linear( hiddenlayer_size, 1 ), n_power_iterations=2 )\n",
    "        \n",
    "    def forward( self, batch ):\n",
    "        \n",
    "        x = self.layer1( batch )\n",
    "        x = self.relu_1( x )\n",
    "        x = self.layer2( x )\n",
    "        x = self.relu_2( x )\n",
    "        x = self.layer3( x )\n",
    "        x = self.relu_3( x )\n",
    "        x = self.layer4( x )\n",
    "        \n",
    "        return x"
   ]
  },
  {
   "attachments": {},
   "cell_type": "markdown",
   "metadata": {},
   "source": [
    "A few points here:\n",
    "- We're using LeakyReLU rather than ReLU, this has been shown to work well in our tests\n",
    "    - check it out: https://pytorch.org/docs/stable/generated/torch.nn.LeakyReLU.html\n",
    "- We use spectral norm on every layer in the discriminator\n",
    "    - The discriminator needs to be regulated, otherwise it dominates in the optimisation\n",
    "    - spectral norm does this\n",
    "    - check it out here: https://pytorch.org/docs/stable/generated/torch.nn.utils.spectral_norm.html\n",
    "- The latent space dimension in the generative network does not need to be the same as the data dimension"
   ]
  },
  {
   "attachments": {},
   "cell_type": "markdown",
   "metadata": {},
   "source": [
    "## Optimizing the GAN"
   ]
  },
  {
   "attachments": {},
   "cell_type": "markdown",
   "metadata": {},
   "source": [
    "First, we set the device."
   ]
  },
  {
   "cell_type": "code",
   "execution_count": 17,
   "metadata": {},
   "outputs": [
    {
     "name": "stdout",
     "output_type": "stream",
     "text": [
      "Using cpu device\n"
     ]
    }
   ],
   "source": [
    "device = \"cuda\" if torch.cuda.is_available() else \"cpu\"\n",
    "print(f\"Using {device} device\")"
   ]
  },
  {
   "attachments": {},
   "cell_type": "markdown",
   "metadata": {},
   "source": [
    "We need two loss functions, one for the generative part and one for the adverserial.\n",
    "\n",
    "The adverserial net is just a classifier, so it's loss is simple, binary cross entropy.\n",
    "\n",
    "For the generative network we can also use the binary cross entropy, where the labels for the generated and true data are:\n",
    "- 0 for generated data\n",
    "- 1 for true data"
   ]
  },
  {
   "attachments": {},
   "cell_type": "markdown",
   "metadata": {},
   "source": [
    "For the loss function we use the BCEWithLogitsLoss loss function.\n",
    "\n",
    "This passes the input through a sigmoid before putting it into the BCE loss.  The logarithms from the BCE and the exponentials in the sigmoids are then treated in more numerically stable way.\n",
    "\n",
    "To get the correct loss function for updates of the generative network, we are required to compute the loss using fake data and the real labels.\n",
    "\n",
    "Lastly, we of course now need to pass the models, optimisers, and schedulers for both networks to the train_epoch function.\n",
    "\n",
    "Check it out here:  https://pytorch.org/docs/stable/generated/torch.nn.BCEWithLogitsLoss.html"
   ]
  },
  {
   "cell_type": "code",
   "execution_count": 18,
   "metadata": {},
   "outputs": [],
   "source": [
    "loss_fn = nn.BCEWithLogitsLoss()"
   ]
  },
  {
   "cell_type": "code",
   "execution_count": 332,
   "metadata": {},
   "outputs": [],
   "source": [
    "def train_epoch( dataloader, gen_model, dis_model, loss_fn, gen_optimizer, dis_optimizer, gen_scheduler, dis_scheduler ):\n",
    "    \n",
    "    size = len( dataloader.dataset )\n",
    "    \n",
    "    for batch, x_real in enumerate(dataloader):\n",
    "        \n",
    "        # calculate the batch_len and the num_obs in the input\n",
    "        # we can't just use the batch_size we defined, the last batch in the epoch is unlikely to be complete\n",
    "        batch_len = x_real.shape[0]\n",
    "        num_obs = x_real.shape[1]\n",
    "        \n",
    "        # reset gradients in optimizers\n",
    "        gen_optimizer.zero_grad()\n",
    "        dis_optimizer.zero_grad()\n",
    "        \n",
    "        # define labels\n",
    "        lbls_real = torch.ones( batch_len ).unsqueeze(-1)\n",
    "        lbls_fake = torch.zeros( batch_len ).unsqueeze(-1)\n",
    "        \n",
    "        '''\n",
    "        DISCRIMINATOR UPDATE\n",
    "        '''\n",
    "        \n",
    "        # sample random noise for the generative network\n",
    "        z_gen = torch.randn( batch_len, gen_model.latent_dim, device=device )\n",
    "\n",
    "        # pass data through generative network\n",
    "        x_gen = gen_model( z_gen )\n",
    "        \n",
    "        # pass data through discriminative network\n",
    "        # detach x_gen because we do not want to compute generative model gradients\n",
    "        out_real = dis_model( x_real )\n",
    "        out_fake = dis_model( x_gen.detach() )\n",
    "        \n",
    "        # compute loss\n",
    "        dis_loss_real = loss_fn( out_real, lbls_real )\n",
    "        dis_loss_fake = loss_fn( out_fake, lbls_fake )\n",
    "        \n",
    "        # compute gradients\n",
    "        dis_loss_real.backward()\n",
    "        dis_loss_fake.backward()\n",
    "        dis_loss = dis_loss_real + dis_loss_fake\n",
    "        \n",
    "        # update discriminative network weights with optimizer\n",
    "        dis_optimizer.step()\n",
    "        \n",
    "        '''\n",
    "        GENERATOR UPDATE\n",
    "        '''\n",
    "        \n",
    "        # pass the fake data through the discriminator again since we've now updated those weights\n",
    "        gen_model.zero_grad()\n",
    "        out_fake = dis_model( x_gen )\n",
    "        \n",
    "        # zero gradients then compute gradients\n",
    "        # note the use of lbls_real\n",
    "        gen_loss = loss_fn( out_fake, lbls_real )\n",
    "        gen_loss.backward()\n",
    "        \n",
    "        # update generative network weights with optimizer\n",
    "        gen_optimizer.step()\n",
    "        \n",
    "        '''\n",
    "        PRINT STATS\n",
    "        '''\n",
    "        \n",
    "        # print the training loss every 100 updates\n",
    "        if batch % 100 == 0:\n",
    "            dis_loss, gen_loss, current = dis_loss.item(), gen_loss.item(), batch * len(x_real)\n",
    "            print( f\"dis loss: {dis_loss:>7f}  [{current:>5d}/{size:>5d}]\" )\n",
    "            print( f\"gen loss: {gen_loss:>7f}  [{current:>5d}/{size:>5d}]\" )\n",
    "            print( \"--\" )\n",
    "    \n",
    "    # update the schedulers\n",
    "    gen_scheduler.step()\n",
    "    dis_scheduler.step()"
   ]
  },
  {
   "attachments": {},
   "cell_type": "markdown",
   "metadata": {},
   "source": [
    "We want to evaluate how well the training is going for the training and validation data.\n",
    "We do this by seeing how well the classifier can classify between the real and fake data."
   ]
  },
  {
   "cell_type": "code",
   "execution_count": 76,
   "metadata": {},
   "outputs": [],
   "source": [
    "def val_pass( dataloader, gen_model, dis_model, loss_fn ):\n",
    "    \n",
    "    size = len( dataloader.dataset )\n",
    "    num_batches = len( dataloader )\n",
    "    vl = 0.0\n",
    "    \n",
    "    lbls_real = torch.ones( 64 ).unsqueeze(-1)\n",
    "    lbls_fake = torch.zeros( 64 ).unsqueeze(-1)\n",
    "    lbls = torch.concat( (lbls_real, lbls_fake), dim=0 )\n",
    "\n",
    "    # we don't need gradients here since we only use the forward pass\n",
    "    with torch.no_grad():\n",
    "        for x_real in dataloader:\n",
    "            batch_len = x_real.shape[0]\n",
    "            num_obs = x_real.shape[1]\n",
    "            lbls_real = torch.ones( batch_len ).unsqueeze(-1)\n",
    "            lbls_fake = torch.zeros( batch_len ).unsqueeze(-1)\n",
    "            lbls = torch.concat( (lbls_real, lbls_fake), dim=0 )\n",
    "            z_gen = torch.randn( batch_len, gen_model.latent_dim, device=device )\n",
    "            x_gen = gen_model( z_gen )\n",
    "            out_real = dis_model( x_real )\n",
    "            out_fake = dis_model( x_gen )\n",
    "            out = torch.concat( (out_real, out_fake), dim=0 )\n",
    "            vl += loss_fn( out, lbls ).item()\n",
    "\n",
    "    vl /= num_batches\n",
    "    print( f\"avg val loss per batch: {vl:>8f}\" )\n",
    "    \n",
    "    return vl\n",
    "\n",
    "def trn_pass( dataloader, gen_model, dis_model, loss_fn ):\n",
    "    \n",
    "    size = len( dataloader.dataset )\n",
    "    num_batches = len( dataloader )\n",
    "    tl = 0.0\n",
    "\n",
    "    # we don't need gradients here since we only use the forward pass\n",
    "    with torch.no_grad():\n",
    "        for x_real in dataloader:\n",
    "            batch_len = x_real.shape[0]\n",
    "            num_obs = x_real.shape[1]\n",
    "            lbls_real = torch.ones( batch_len ).unsqueeze(-1)\n",
    "            lbls_fake = torch.zeros( batch_len ).unsqueeze(-1)\n",
    "            lbls = torch.concat( (lbls_real, lbls_fake), dim=0 )\n",
    "            z_gen = torch.randn( batch_len, gen_model.latent_dim, device=device )\n",
    "            x_gen = gen_model( z_gen )\n",
    "            out_real = dis_model( x_real )\n",
    "            out_fake = dis_model( x_gen )\n",
    "            out = torch.concat( (out_real, out_fake), dim=0 )\n",
    "            tl += loss_fn( out, lbls ).item()\n",
    "\n",
    "    tl /= num_batches\n",
    "    print( f\"avg trn loss per batch: {tl:>8f}\" )\n",
    "    \n",
    "    return tl"
   ]
  },
  {
   "attachments": {},
   "cell_type": "markdown",
   "metadata": {},
   "source": [
    "To optimize the network we need separate optimizers for each model, and we also add a learning rate scheduler regulate the training further."
   ]
  },
  {
   "cell_type": "code",
   "execution_count": 344,
   "metadata": {
    "scrolled": true
   },
   "outputs": [
    {
     "name": "stdout",
     "output_type": "stream",
     "text": [
      "-----------------------------------------------\n",
      "model architecture \n",
      "-----------------------------------------------\n",
      "drellGAN_gen(\n",
      "  (layer1): Linear(in_features=8, out_features=64, bias=True)\n",
      "  (relu_1): LeakyReLU(negative_slope=0.1)\n",
      "  (layer2): Linear(in_features=64, out_features=64, bias=True)\n",
      "  (relu_2): LeakyReLU(negative_slope=0.1)\n",
      "  (layer3): Linear(in_features=64, out_features=64, bias=True)\n",
      "  (relu_3): LeakyReLU(negative_slope=0.1)\n",
      "  (layer4): Linear(in_features=64, out_features=8, bias=True)\n",
      ")\n",
      "drellGAN_dis(\n",
      "  (layer1): Linear(in_features=8, out_features=64, bias=True)\n",
      "  (relu_1): LeakyReLU(negative_slope=0.1)\n",
      "  (layer2): Linear(in_features=64, out_features=64, bias=True)\n",
      "  (relu_2): LeakyReLU(negative_slope=0.1)\n",
      "  (layer3): Linear(in_features=64, out_features=64, bias=True)\n",
      "  (relu_3): LeakyReLU(negative_slope=0.1)\n",
      "  (layer4): Linear(in_features=64, out_features=1, bias=True)\n",
      ")\n",
      "-----------------------------------------------\n",
      "Epoch 1\n",
      "-----------------------------------------------\n",
      "dis loss: 1.389699  [    0/1384081]\n",
      "gen loss: 0.651337  [    0/1384081]\n",
      "--\n",
      "dis loss: 1.375069  [250000/1384081]\n",
      "gen loss: 0.696842  [250000/1384081]\n",
      "--\n",
      "dis loss: 1.382190  [500000/1384081]\n",
      "gen loss: 0.798095  [500000/1384081]\n",
      "--\n",
      "dis loss: 1.394459  [750000/1384081]\n",
      "gen loss: 0.684801  [750000/1384081]\n",
      "--\n",
      "dis loss: 1.380669  [1000000/1384081]\n",
      "gen loss: 0.729152  [1000000/1384081]\n",
      "--\n",
      "dis loss: 1.314614  [1250000/1384081]\n",
      "gen loss: 0.909646  [1250000/1384081]\n",
      "--\n",
      "-----------------------------------------------\n",
      "avg trn loss per batch: 0.737150\n",
      "-----------------------------------------------\n",
      "avg val loss per batch: 0.737213\n",
      "-----------------------------------------------\n",
      "|\n",
      "-----------------------------------------------\n",
      "Epoch 2\n",
      "-----------------------------------------------\n",
      "dis loss: 1.475107  [    0/1384081]\n",
      "gen loss: 0.672058  [    0/1384081]\n",
      "--\n",
      "dis loss: 1.543211  [250000/1384081]\n",
      "gen loss: 0.616277  [250000/1384081]\n",
      "--\n",
      "dis loss: 1.379300  [500000/1384081]\n",
      "gen loss: 0.675687  [500000/1384081]\n",
      "--\n",
      "dis loss: 1.358923  [750000/1384081]\n",
      "gen loss: 0.785866  [750000/1384081]\n",
      "--\n",
      "dis loss: 1.403019  [1000000/1384081]\n",
      "gen loss: 0.692421  [1000000/1384081]\n",
      "--\n",
      "dis loss: 1.382895  [1250000/1384081]\n",
      "gen loss: 0.699744  [1250000/1384081]\n",
      "--\n",
      "-----------------------------------------------\n",
      "avg trn loss per batch: 0.688613\n",
      "-----------------------------------------------\n",
      "avg val loss per batch: 0.688605\n",
      "-----------------------------------------------\n",
      "|\n",
      "-----------------------------------------------\n",
      "Epoch 3\n",
      "-----------------------------------------------\n",
      "dis loss: 1.377243  [    0/1384081]\n",
      "gen loss: 0.710405  [    0/1384081]\n",
      "--\n",
      "dis loss: 1.393255  [250000/1384081]\n",
      "gen loss: 0.690350  [250000/1384081]\n",
      "--\n",
      "dis loss: 1.356893  [500000/1384081]\n",
      "gen loss: 0.703490  [500000/1384081]\n",
      "--\n",
      "dis loss: 1.438501  [750000/1384081]\n",
      "gen loss: 0.647744  [750000/1384081]\n",
      "--\n",
      "dis loss: 1.345430  [1000000/1384081]\n",
      "gen loss: 0.716627  [1000000/1384081]\n",
      "--\n",
      "dis loss: 1.387924  [1250000/1384081]\n",
      "gen loss: 0.690715  [1250000/1384081]\n",
      "--\n",
      "-----------------------------------------------\n",
      "avg trn loss per batch: 0.708156\n",
      "-----------------------------------------------\n",
      "avg val loss per batch: 0.708180\n",
      "-----------------------------------------------\n",
      "|\n",
      "-----------------------------------------------\n",
      "Epoch 4\n",
      "-----------------------------------------------\n",
      "dis loss: 1.417532  [    0/1384081]\n",
      "gen loss: 0.659022  [    0/1384081]\n",
      "--\n",
      "dis loss: 1.390056  [250000/1384081]\n",
      "gen loss: 0.692381  [250000/1384081]\n",
      "--\n",
      "dis loss: 1.402839  [500000/1384081]\n",
      "gen loss: 0.663986  [500000/1384081]\n",
      "--\n",
      "dis loss: 1.347196  [750000/1384081]\n",
      "gen loss: 0.780940  [750000/1384081]\n",
      "--\n",
      "dis loss: 1.390371  [1000000/1384081]\n",
      "gen loss: 0.672141  [1000000/1384081]\n",
      "--\n",
      "dis loss: 1.368542  [1250000/1384081]\n",
      "gen loss: 0.710386  [1250000/1384081]\n",
      "--\n",
      "-----------------------------------------------\n",
      "avg trn loss per batch: 0.671075\n",
      "-----------------------------------------------\n",
      "avg val loss per batch: 0.670928\n",
      "-----------------------------------------------\n",
      "|\n",
      "-----------------------------------------------\n",
      "Epoch 5\n",
      "-----------------------------------------------\n",
      "dis loss: 1.343730  [    0/1384081]\n",
      "gen loss: 0.793264  [    0/1384081]\n",
      "--\n",
      "dis loss: 1.376368  [250000/1384081]\n",
      "gen loss: 0.677311  [250000/1384081]\n",
      "--\n",
      "dis loss: 1.369094  [500000/1384081]\n",
      "gen loss: 0.675714  [500000/1384081]\n",
      "--\n",
      "dis loss: 1.374393  [750000/1384081]\n",
      "gen loss: 0.673380  [750000/1384081]\n",
      "--\n",
      "dis loss: 1.423320  [1000000/1384081]\n",
      "gen loss: 0.649614  [1000000/1384081]\n",
      "--\n",
      "dis loss: 1.394028  [1250000/1384081]\n",
      "gen loss: 0.664631  [1250000/1384081]\n",
      "--\n",
      "-----------------------------------------------\n",
      "avg trn loss per batch: 0.736767\n",
      "-----------------------------------------------\n",
      "avg val loss per batch: 0.736797\n",
      "-----------------------------------------------\n",
      "|\n",
      "-----------------------------------------------\n",
      "Epoch 6\n",
      "-----------------------------------------------\n",
      "dis loss: 1.474863  [    0/1384081]\n",
      "gen loss: 0.703486  [    0/1384081]\n",
      "--\n",
      "dis loss: 1.353954  [250000/1384081]\n",
      "gen loss: 0.683187  [250000/1384081]\n",
      "--\n",
      "dis loss: 1.430562  [500000/1384081]\n",
      "gen loss: 0.670727  [500000/1384081]\n",
      "--\n",
      "dis loss: 1.404266  [750000/1384081]\n",
      "gen loss: 0.687486  [750000/1384081]\n",
      "--\n",
      "dis loss: 1.333839  [1000000/1384081]\n",
      "gen loss: 0.857838  [1000000/1384081]\n",
      "--\n",
      "dis loss: 1.295298  [1250000/1384081]\n",
      "gen loss: 0.901385  [1250000/1384081]\n",
      "--\n",
      "-----------------------------------------------\n",
      "avg trn loss per batch: 0.728341\n",
      "-----------------------------------------------\n",
      "avg val loss per batch: 0.728493\n",
      "-----------------------------------------------\n",
      "|\n",
      "-----------------------------------------------\n",
      "Epoch 7\n",
      "-----------------------------------------------\n",
      "dis loss: 1.457667  [    0/1384081]\n",
      "gen loss: 0.720859  [    0/1384081]\n",
      "--\n",
      "dis loss: 1.387440  [250000/1384081]\n",
      "gen loss: 0.651644  [250000/1384081]\n",
      "--\n",
      "dis loss: 1.381510  [500000/1384081]\n",
      "gen loss: 0.717881  [500000/1384081]\n",
      "--\n",
      "dis loss: 1.273399  [750000/1384081]\n",
      "gen loss: 0.951171  [750000/1384081]\n",
      "--\n",
      "dis loss: 1.401667  [1000000/1384081]\n",
      "gen loss: 0.644916  [1000000/1384081]\n",
      "--\n",
      "dis loss: 1.340609  [1250000/1384081]\n",
      "gen loss: 0.686882  [1250000/1384081]\n",
      "--\n",
      "-----------------------------------------------\n",
      "avg trn loss per batch: 0.681817\n",
      "-----------------------------------------------\n",
      "avg val loss per batch: 0.681838\n",
      "-----------------------------------------------\n",
      "|\n",
      "-----------------------------------------------\n",
      "Epoch 8\n",
      "-----------------------------------------------\n",
      "dis loss: 1.361381  [    0/1384081]\n",
      "gen loss: 0.675663  [    0/1384081]\n",
      "--\n",
      "dis loss: 1.405232  [250000/1384081]\n",
      "gen loss: 0.688419  [250000/1384081]\n",
      "--\n",
      "dis loss: 1.360711  [500000/1384081]\n",
      "gen loss: 0.718851  [500000/1384081]\n",
      "--\n",
      "dis loss: 1.401207  [750000/1384081]\n",
      "gen loss: 0.713293  [750000/1384081]\n",
      "--\n",
      "dis loss: 1.360776  [1000000/1384081]\n",
      "gen loss: 0.698306  [1000000/1384081]\n",
      "--\n",
      "dis loss: 1.383555  [1250000/1384081]\n",
      "gen loss: 0.705659  [1250000/1384081]\n",
      "--\n",
      "-----------------------------------------------\n",
      "avg trn loss per batch: 0.689168\n",
      "-----------------------------------------------\n",
      "avg val loss per batch: 0.689232\n",
      "-----------------------------------------------\n",
      "|\n",
      "-----------------------------------------------\n",
      "Epoch 9\n",
      "-----------------------------------------------\n",
      "dis loss: 1.377691  [    0/1384081]\n",
      "gen loss: 0.703148  [    0/1384081]\n",
      "--\n",
      "dis loss: 1.394121  [250000/1384081]\n",
      "gen loss: 0.692386  [250000/1384081]\n",
      "--\n",
      "dis loss: 1.396653  [500000/1384081]\n",
      "gen loss: 0.690618  [500000/1384081]\n",
      "--\n",
      "dis loss: 1.383245  [750000/1384081]\n",
      "gen loss: 0.697303  [750000/1384081]\n",
      "--\n",
      "dis loss: 1.375183  [1000000/1384081]\n",
      "gen loss: 0.698673  [1000000/1384081]\n",
      "--\n",
      "dis loss: 1.380623  [1250000/1384081]\n",
      "gen loss: 0.703461  [1250000/1384081]\n",
      "--\n",
      "-----------------------------------------------\n",
      "avg trn loss per batch: 0.697527\n",
      "-----------------------------------------------\n",
      "avg val loss per batch: 0.697518\n",
      "-----------------------------------------------\n",
      "|\n",
      "-----------------------------------------------\n",
      "Epoch 10\n",
      "-----------------------------------------------\n",
      "dis loss: 1.395284  [    0/1384081]\n",
      "gen loss: 0.690563  [    0/1384081]\n",
      "--\n",
      "dis loss: 1.380151  [250000/1384081]\n",
      "gen loss: 0.697736  [250000/1384081]\n",
      "--\n",
      "dis loss: 1.372539  [500000/1384081]\n",
      "gen loss: 0.717554  [500000/1384081]\n",
      "--\n"
     ]
    },
    {
     "name": "stdout",
     "output_type": "stream",
     "text": [
      "dis loss: 1.400078  [750000/1384081]\n",
      "gen loss: 0.694193  [750000/1384081]\n",
      "--\n",
      "dis loss: 1.388859  [1000000/1384081]\n",
      "gen loss: 0.692901  [1000000/1384081]\n",
      "--\n",
      "dis loss: 1.382900  [1250000/1384081]\n",
      "gen loss: 0.696232  [1250000/1384081]\n",
      "--\n",
      "-----------------------------------------------\n",
      "avg trn loss per batch: 0.695004\n",
      "-----------------------------------------------\n",
      "avg val loss per batch: 0.695027\n",
      "-----------------------------------------------\n",
      "|\n",
      "-----------------------------------------------\n",
      "Epoch 11\n",
      "-----------------------------------------------\n",
      "dis loss: 1.390325  [    0/1384081]\n",
      "gen loss: 0.687431  [    0/1384081]\n",
      "--\n",
      "dis loss: 1.382441  [250000/1384081]\n",
      "gen loss: 0.694915  [250000/1384081]\n",
      "--\n",
      "dis loss: 1.382580  [500000/1384081]\n",
      "gen loss: 0.697097  [500000/1384081]\n",
      "--\n",
      "dis loss: 1.388398  [750000/1384081]\n",
      "gen loss: 0.694015  [750000/1384081]\n",
      "--\n",
      "dis loss: 1.388981  [1000000/1384081]\n",
      "gen loss: 0.696942  [1000000/1384081]\n",
      "--\n",
      "dis loss: 1.386909  [1250000/1384081]\n",
      "gen loss: 0.698748  [1250000/1384081]\n",
      "--\n",
      "-----------------------------------------------\n",
      "avg trn loss per batch: 0.690270\n",
      "-----------------------------------------------\n",
      "avg val loss per batch: 0.690261\n",
      "-----------------------------------------------\n",
      "|\n",
      "-----------------------------------------------\n",
      "Epoch 12\n",
      "-----------------------------------------------\n",
      "dis loss: 1.380607  [    0/1384081]\n",
      "gen loss: 0.695916  [    0/1384081]\n",
      "--\n",
      "dis loss: 1.385554  [250000/1384081]\n",
      "gen loss: 0.696775  [250000/1384081]\n",
      "--\n",
      "dis loss: 1.383725  [500000/1384081]\n",
      "gen loss: 0.697005  [500000/1384081]\n",
      "--\n",
      "dis loss: 1.385798  [750000/1384081]\n",
      "gen loss: 0.694188  [750000/1384081]\n",
      "--\n",
      "dis loss: 1.385403  [1000000/1384081]\n",
      "gen loss: 0.694771  [1000000/1384081]\n",
      "--\n",
      "dis loss: 1.387679  [1250000/1384081]\n",
      "gen loss: 0.697036  [1250000/1384081]\n",
      "--\n",
      "-----------------------------------------------\n",
      "avg trn loss per batch: 0.692871\n",
      "-----------------------------------------------\n",
      "avg val loss per batch: 0.692867\n",
      "-----------------------------------------------\n",
      "|\n",
      "-----------------------------------------------\n",
      "Epoch 13\n",
      "-----------------------------------------------\n",
      "dis loss: 1.385829  [    0/1384081]\n",
      "gen loss: 0.694097  [    0/1384081]\n",
      "--\n",
      "dis loss: 1.385765  [250000/1384081]\n",
      "gen loss: 0.694084  [250000/1384081]\n",
      "--\n",
      "dis loss: 1.388379  [500000/1384081]\n",
      "gen loss: 0.694016  [500000/1384081]\n",
      "--\n",
      "dis loss: 1.388383  [750000/1384081]\n",
      "gen loss: 0.692927  [750000/1384081]\n",
      "--\n",
      "dis loss: 1.389708  [1000000/1384081]\n",
      "gen loss: 0.693924  [1000000/1384081]\n",
      "--\n",
      "dis loss: 1.382116  [1250000/1384081]\n",
      "gen loss: 0.695951  [1250000/1384081]\n",
      "--\n",
      "-----------------------------------------------\n",
      "avg trn loss per batch: 0.693823\n",
      "-----------------------------------------------\n",
      "avg val loss per batch: 0.693810\n",
      "-----------------------------------------------\n",
      "|\n",
      "-----------------------------------------------\n",
      "Epoch 14\n",
      "-----------------------------------------------\n",
      "dis loss: 1.387526  [    0/1384081]\n",
      "gen loss: 0.694195  [    0/1384081]\n",
      "--\n",
      "dis loss: 1.383420  [250000/1384081]\n",
      "gen loss: 0.697842  [250000/1384081]\n",
      "--\n",
      "dis loss: 1.384427  [500000/1384081]\n",
      "gen loss: 0.695015  [500000/1384081]\n",
      "--\n",
      "dis loss: 1.384897  [750000/1384081]\n",
      "gen loss: 0.694020  [750000/1384081]\n",
      "--\n",
      "dis loss: 1.388064  [1000000/1384081]\n",
      "gen loss: 0.695427  [1000000/1384081]\n",
      "--\n",
      "dis loss: 1.386137  [1250000/1384081]\n",
      "gen loss: 0.694637  [1250000/1384081]\n",
      "--\n",
      "-----------------------------------------------\n",
      "avg trn loss per batch: 0.692764\n",
      "-----------------------------------------------\n",
      "avg val loss per batch: 0.692766\n",
      "-----------------------------------------------\n",
      "|\n",
      "-----------------------------------------------\n",
      "Epoch 15\n",
      "-----------------------------------------------\n",
      "dis loss: 1.386203  [    0/1384081]\n",
      "gen loss: 0.694551  [    0/1384081]\n",
      "--\n",
      "dis loss: 1.384859  [250000/1384081]\n",
      "gen loss: 0.693761  [250000/1384081]\n",
      "--\n",
      "dis loss: 1.385989  [500000/1384081]\n",
      "gen loss: 0.692724  [500000/1384081]\n",
      "--\n",
      "dis loss: 1.388632  [750000/1384081]\n",
      "gen loss: 0.693712  [750000/1384081]\n",
      "--\n",
      "dis loss: 1.385498  [1000000/1384081]\n",
      "gen loss: 0.693125  [1000000/1384081]\n",
      "--\n",
      "dis loss: 1.385616  [1250000/1384081]\n",
      "gen loss: 0.693782  [1250000/1384081]\n",
      "--\n",
      "-----------------------------------------------\n",
      "avg trn loss per batch: 0.693066\n",
      "-----------------------------------------------\n",
      "avg val loss per batch: 0.693078\n",
      "-----------------------------------------------\n",
      "|\n",
      "-----------------------------------------------\n",
      "Epoch 16\n",
      "-----------------------------------------------\n",
      "dis loss: 1.386130  [    0/1384081]\n",
      "gen loss: 0.693033  [    0/1384081]\n",
      "--\n",
      "dis loss: 1.385844  [250000/1384081]\n",
      "gen loss: 0.695144  [250000/1384081]\n",
      "--\n",
      "dis loss: 1.385379  [500000/1384081]\n",
      "gen loss: 0.694066  [500000/1384081]\n",
      "--\n",
      "dis loss: 1.386461  [750000/1384081]\n",
      "gen loss: 0.693510  [750000/1384081]\n",
      "--\n",
      "dis loss: 1.386463  [1000000/1384081]\n",
      "gen loss: 0.693933  [1000000/1384081]\n",
      "--\n",
      "dis loss: 1.386490  [1250000/1384081]\n",
      "gen loss: 0.693187  [1250000/1384081]\n",
      "--\n",
      "-----------------------------------------------\n",
      "avg trn loss per batch: 0.693203\n",
      "-----------------------------------------------\n",
      "avg val loss per batch: 0.693202\n",
      "-----------------------------------------------\n",
      "|\n",
      "-----------------------------------------------\n",
      "Epoch 17\n",
      "-----------------------------------------------\n",
      "dis loss: 1.386385  [    0/1384081]\n",
      "gen loss: 0.693501  [    0/1384081]\n",
      "--\n",
      "dis loss: 1.387358  [250000/1384081]\n",
      "gen loss: 0.692529  [250000/1384081]\n",
      "--\n",
      "dis loss: 1.386267  [500000/1384081]\n",
      "gen loss: 0.693792  [500000/1384081]\n",
      "--\n",
      "dis loss: 1.386416  [750000/1384081]\n",
      "gen loss: 0.692717  [750000/1384081]\n",
      "--\n",
      "dis loss: 1.386414  [1000000/1384081]\n",
      "gen loss: 0.693671  [1000000/1384081]\n",
      "--\n",
      "dis loss: 1.386663  [1250000/1384081]\n",
      "gen loss: 0.692798  [1250000/1384081]\n",
      "--\n",
      "-----------------------------------------------\n",
      "avg trn loss per batch: 0.693552\n",
      "-----------------------------------------------\n",
      "avg val loss per batch: 0.693556\n",
      "-----------------------------------------------\n",
      "|\n",
      "-----------------------------------------------\n",
      "Epoch 18\n",
      "-----------------------------------------------\n",
      "dis loss: 1.387129  [    0/1384081]\n",
      "gen loss: 0.693249  [    0/1384081]\n",
      "--\n",
      "dis loss: 1.386356  [250000/1384081]\n",
      "gen loss: 0.693832  [250000/1384081]\n",
      "--\n",
      "dis loss: 1.385796  [500000/1384081]\n",
      "gen loss: 0.693640  [500000/1384081]\n",
      "--\n",
      "dis loss: 1.386435  [750000/1384081]\n",
      "gen loss: 0.692009  [750000/1384081]\n",
      "--\n",
      "dis loss: 1.386400  [1000000/1384081]\n",
      "gen loss: 0.694339  [1000000/1384081]\n",
      "--\n",
      "dis loss: 1.386684  [1250000/1384081]\n",
      "gen loss: 0.692449  [1250000/1384081]\n",
      "--\n",
      "-----------------------------------------------\n",
      "avg trn loss per batch: 0.693400\n",
      "-----------------------------------------------\n",
      "avg val loss per batch: 0.693399\n",
      "-----------------------------------------------\n",
      "|\n",
      "-----------------------------------------------\n",
      "Epoch 19\n",
      "-----------------------------------------------\n",
      "dis loss: 1.386743  [    0/1384081]\n",
      "gen loss: 0.692900  [    0/1384081]\n",
      "--\n",
      "dis loss: 1.386426  [250000/1384081]\n",
      "gen loss: 0.693398  [250000/1384081]\n",
      "--\n",
      "dis loss: 1.386305  [500000/1384081]\n",
      "gen loss: 0.693352  [500000/1384081]\n",
      "--\n",
      "dis loss: 1.386328  [750000/1384081]\n",
      "gen loss: 0.693746  [750000/1384081]\n",
      "--\n",
      "dis loss: 1.386537  [1000000/1384081]\n",
      "gen loss: 0.693592  [1000000/1384081]\n",
      "--\n",
      "dis loss: 1.386138  [1250000/1384081]\n",
      "gen loss: 0.692802  [1250000/1384081]\n",
      "--\n",
      "-----------------------------------------------\n",
      "avg trn loss per batch: 0.693082\n",
      "-----------------------------------------------\n",
      "avg val loss per batch: 0.693082\n",
      "-----------------------------------------------\n",
      "|\n",
      "-----------------------------------------------\n",
      "Epoch 20\n",
      "-----------------------------------------------\n",
      "dis loss: 1.386149  [    0/1384081]\n",
      "gen loss: 0.693265  [    0/1384081]\n",
      "--\n",
      "dis loss: 1.386358  [250000/1384081]\n",
      "gen loss: 0.693220  [250000/1384081]\n",
      "--\n",
      "dis loss: 1.386353  [500000/1384081]\n",
      "gen loss: 0.694192  [500000/1384081]\n",
      "--\n",
      "dis loss: 1.386394  [750000/1384081]\n",
      "gen loss: 0.692993  [750000/1384081]\n",
      "--\n",
      "dis loss: 1.386211  [1000000/1384081]\n",
      "gen loss: 0.693233  [1000000/1384081]\n",
      "--\n",
      "dis loss: 1.386329  [1250000/1384081]\n",
      "gen loss: 0.693381  [1250000/1384081]\n",
      "--\n",
      "-----------------------------------------------\n",
      "avg trn loss per batch: 0.693158\n",
      "-----------------------------------------------\n",
      "avg val loss per batch: 0.693156\n",
      "-----------------------------------------------\n",
      "|\n",
      "Done!\n"
     ]
    }
   ],
   "source": [
    "# a useful function to present things clearer\n",
    "def separator():\n",
    "    print( \"-----------------------------------------------\" )\n",
    "\n",
    "epochs = 20\n",
    "\n",
    "gen_model = drellGAN_gen( 8, 8, 64 ).to(device)\n",
    "dis_model = drellGAN_dis( 8, 64 ).to(device)\n",
    "learning_rate = 0.001\n",
    "gen_optimizer = torch.optim.Adam( gen_model.parameters(), lr=learning_rate, betas = (0.5, 0.9), weight_decay = 0. )\n",
    "dis_optimizer = torch.optim.Adam( dis_model.parameters(), lr=learning_rate, betas = (0.5, 0.9), weight_decay = 0. )\n",
    "gen_scheduler = torch.optim.lr_scheduler.StepLR( optimizer=gen_optimizer, step_size=1, gamma = 0.999 )\n",
    "dis_scheduler = torch.optim.lr_scheduler.StepLR( optimizer=dis_optimizer, step_size=1, gamma = 0.999 )\n",
    "separator()\n",
    "print( \"model architecture \")\n",
    "separator()\n",
    "print( gen_model )\n",
    "print( dis_model )\n",
    "\n",
    "# track train and val losses\n",
    "trn_losses = []\n",
    "val_losses = []\n",
    "\n",
    "for t in range(epochs):\n",
    "    separator()\n",
    "    print( f\"Epoch {t+1}\" )\n",
    "    separator()\n",
    "    train_epoch( trn_dataloader, gen_model, dis_model, loss_fn, gen_optimizer, dis_optimizer, gen_scheduler, dis_scheduler )\n",
    "    separator()\n",
    "    trn_loss = trn_pass( trn_dataloader, gen_model, dis_model, loss_fn )\n",
    "    trn_losses.append( trn_loss )\n",
    "    separator()\n",
    "    val_loss = val_pass( val_dataloader, gen_model, dis_model, loss_fn )\n",
    "    val_losses.append( val_loss )\n",
    "    separator()\n",
    "    print( \"|\" )\n",
    "    \n",
    "print(\"Done!\")"
   ]
  },
  {
   "attachments": {},
   "cell_type": "markdown",
   "metadata": {},
   "source": [
    "## Study the results"
   ]
  },
  {
   "attachments": {},
   "cell_type": "markdown",
   "metadata": {},
   "source": [
    "First let's plot the training and validation losses to see how they look."
   ]
  },
  {
   "cell_type": "code",
   "execution_count": 345,
   "metadata": {},
   "outputs": [
    {
     "data": {
      "image/png": "[encoded data removed]",
      "text/plain": [
       "<Figure size 504x360 with 1 Axes>"
      ]
     },
     "metadata": {
      "needs_background": "light"
     },
     "output_type": "display_data"
    }
   ],
   "source": [
    "fig, axs = plt.subplots( 1, 1, figsize=(7,5) )\n",
    "\n",
    "axs.plot( trn_losses, label=\"train loss\", color=colors[0] )\n",
    "axs.plot( val_losses, label=\"val   loss\", color=colors[1] )\n",
    "\n",
    "axs.set_yscale('log')\n",
    "\n",
    "axs.set_xlabel( \"epoch\")\n",
    "axs.set_ylabel( \"Binary CE\")\n",
    "\n",
    "xticks = [ int(x) for x in axs.get_xticks() ]\n",
    "axs.set_xticklabels( xticks)\n",
    "\n",
    "yticks = axs.get_yticks()\n",
    "axs.set_yticklabels( yticks)\n",
    "\n",
    "axs.legend( loc='best')\n",
    "\n",
    "fig.tight_layout()"
   ]
  },
  {
   "attachments": {},
   "cell_type": "markdown",
   "metadata": {},
   "source": [
    "## Let's generate some events!"
   ]
  },
  {
   "attachments": {},
   "cell_type": "markdown",
   "metadata": {},
   "source": [
    "We first need to generate random data from the unit normal distribution, the same used during training, with the correct shape.  Here we use $10$k samples."
   ]
  },
  {
   "cell_type": "code",
   "execution_count": 346,
   "metadata": {},
   "outputs": [],
   "source": [
    "z_gen = torch.randn( (10000, gen_model.latent_dim) )\n",
    "x_gen = gen_model( z_gen )*100.0"
   ]
  },
  {
   "cell_type": "code",
   "execution_count": 347,
   "metadata": {},
   "outputs": [
    {
     "data": {
      "text/plain": [
       "torch.Size([10000, 8])"
      ]
     },
     "execution_count": 347,
     "metadata": {},
     "output_type": "execute_result"
    }
   ],
   "source": [
    "x_gen.shape"
   ]
  },
  {
   "attachments": {},
   "cell_type": "markdown",
   "metadata": {},
   "source": [
    "Plot the energy distribution of the first jet, for both real and generated data:"
   ]
  },
  {
   "cell_type": "code",
   "execution_count": 348,
   "metadata": {},
   "outputs": [
    {
     "data": {
      "image/png": "[encoded data removed]",
      "text/plain": [
       "<Figure size 432x360 with 1 Axes>"
      ]
     },
     "metadata": {
      "needs_background": "light"
     },
     "output_type": "display_data"
    }
   ],
   "source": [
    "fig, axs = plt.subplots( figsize=(6,5) )\n",
    "\n",
    "bins = np.arange( 0, 350, step=20 )\n",
    "axs.hist( x_gen.detach().numpy()[:,0], alpha=0.5, density=True, bins=bins, label='gen' , color=colors[0])\n",
    "axs.hist( dy_trn_data[:,0], alpha=0.5, density=True, bins=bins, label='real' , color=colors[1])\n",
    "\n",
    "axs.set_xlabel( \"$E_{1}$ [GeV]\")\n",
    "axs.set_ylabel( \"\\#events\")\n",
    "\n",
    "yticks = [  ]\n",
    "axs.set_yticklabels( yticks )\n",
    "\n",
    "xticks = [ int(x) for x in axs.get_xticks() ]\n",
    "axs.set_xticklabels( xticks)\n",
    "\n",
    "axs.legend( loc='best')\n",
    "\n",
    "fig.tight_layout()\n",
    "fig.show()"
   ]
  },
  {
   "attachments": {},
   "cell_type": "markdown",
   "metadata": {},
   "source": [
    "Looks good!!"
   ]
  },
  {
   "attachments": {},
   "cell_type": "markdown",
   "metadata": {},
   "source": [
    "We can do the same for $p_y$ of the first jet:"
   ]
  },
  {
   "cell_type": "code",
   "execution_count": 349,
   "metadata": {},
   "outputs": [
    {
     "data": {
      "image/png": "[encoded data removed]",
      "text/plain": [
       "<Figure size 432x360 with 1 Axes>"
      ]
     },
     "metadata": {
      "needs_background": "light"
     },
     "output_type": "display_data"
    }
   ],
   "source": [
    "fig, axs = plt.subplots( figsize=(6,5) )\n",
    "\n",
    "bins = np.arange( -100, +100, step=10 )\n",
    "axs.hist( x_gen.detach().numpy()[:,2], alpha=0.5, density=True, bins=bins, label='gen', color=colors[0] )\n",
    "axs.hist( dy_trn_data[:,2], alpha=0.5, density=True, bins=bins, label='real', color=colors[1] )\n",
    "\n",
    "axs.set_xlabel( \"$p_{y,1}$ ;GeV]\")\n",
    "axs.set_ylabel( \"\\#events\")\n",
    "\n",
    "yticks = [  ]\n",
    "axs.set_yticklabels( yticks )\n",
    "\n",
    "xticks = [ int(x) for x in axs.get_xticks() ]\n",
    "axs.set_xticklabels( xticks )\n",
    "\n",
    "axs.legend( loc='best')\n",
    "\n",
    "fig.tight_layout()\n",
    "fig.show()"
   ]
  },
  {
   "attachments": {},
   "cell_type": "markdown",
   "metadata": {},
   "source": [
    "Not bad!"
   ]
  },
  {
   "attachments": {},
   "cell_type": "markdown",
   "metadata": {},
   "source": [
    "Now we can look at more complicated observables which involve correlations between the different inputs.\n",
    "\n",
    "first we need to calucate them from the generated data:"
   ]
  },
  {
   "cell_type": "code",
   "execution_count": 350,
   "metadata": {},
   "outputs": [],
   "source": [
    "x_gen_evnt_ims, x_gen_evnt_pts, x_gen_jet1_pts, x_gen_jet2_pts = get_obs( x_gen.detach().numpy() )"
   ]
  },
  {
   "attachments": {},
   "cell_type": "markdown",
   "metadata": {},
   "source": [
    "The $p_T$ of the first jet:"
   ]
  },
  {
   "cell_type": "code",
   "execution_count": 351,
   "metadata": {},
   "outputs": [
    {
     "data": {
      "image/png": "[encoded data removed]",
      "text/plain": [
       "<Figure size 432x360 with 1 Axes>"
      ]
     },
     "metadata": {
      "needs_background": "light"
     },
     "output_type": "display_data"
    }
   ],
   "source": [
    "fig, axs = plt.subplots( figsize=(6,5) )\n",
    "\n",
    "bins = np.arange( 5, 85, step=5 )\n",
    "axs.hist( x_gen_jet1_pts, alpha=0.5, density=True, bins=bins, label='gen', color=colors[0] )\n",
    "axs.hist( trn_jet1_pts, alpha=0.5, density=True, bins=bins, label='real', color=colors[1] )\n",
    "\n",
    "axs.set_xlabel( \"$p_{T,1}$ [GeV]\")\n",
    "axs.set_ylabel( \"\\#events\")\n",
    "\n",
    "yticks = [  ]\n",
    "axs.set_yticklabels( yticks)\n",
    "\n",
    "xticks = [ int(x) for x in axs.get_xticks() ]\n",
    "axs.set_xticklabels( xticks)\n",
    "\n",
    "axs.legend( loc='best')\n",
    "\n",
    "fig.tight_layout()\n",
    "fig.show()"
   ]
  },
  {
   "attachments": {},
   "cell_type": "markdown",
   "metadata": {},
   "source": [
    "Looks good!"
   ]
  },
  {
   "attachments": {},
   "cell_type": "markdown",
   "metadata": {},
   "source": [
    "Now the invariant mass of the whole event:"
   ]
  },
  {
   "cell_type": "code",
   "execution_count": 352,
   "metadata": {},
   "outputs": [
    {
     "data": {
      "image/png": "[encoded data removed]",
      "text/plain": [
       "<Figure size 432x360 with 1 Axes>"
      ]
     },
     "metadata": {
      "needs_background": "light"
     },
     "output_type": "display_data"
    }
   ],
   "source": [
    "fig, axs = plt.subplots( figsize=(6,5) )\n",
    "\n",
    "bins = np.arange( 5, 165, step=10 )\n",
    "axs.hist( np.nan_to_num( x_gen_evnt_ims ), alpha=0.5, density=True, bins=bins, label='gen', color=colors[0] )\n",
    "axs.hist( np.nan_to_num( trn_evnt_ims ), alpha=0.5, density=True, bins=bins, label='real', color=colors[1] )\n",
    "\n",
    "axs.set_xlabel( \"$m_{\\mu\\mu}$ [GeV]\")\n",
    "axs.set_ylabel( \"\\#events\")\n",
    "\n",
    "yticks = [  ]\n",
    "axs.set_yticklabels( yticks)\n",
    "\n",
    "xticks = [ int(x) for x in axs.get_xticks() ]\n",
    "axs.set_xticklabels( xticks)\n",
    "\n",
    "axs.legend( loc='best')\n",
    "\n",
    "fig.tight_layout()\n",
    "fig.show()"
   ]
  },
  {
   "attachments": {},
   "cell_type": "markdown",
   "metadata": {},
   "source": [
    "This is slightly less good..\n",
    "\n",
    "Why?\n",
    "\n",
    "The $p_T$ is just a linear function of just two of the inputs, while the invariant mass non-linear function of all observables and so is less trivial correlation for the GAN to learn."
   ]
  },
  {
   "attachments": {},
   "cell_type": "markdown",
   "metadata": {},
   "source": [
    "## Concluding remarks"
   ]
  },
  {
   "attachments": {},
   "cell_type": "markdown",
   "metadata": {},
   "source": [
    "What else can we try?\n",
    "- Varying the latent space size\n",
    "    - Can be useful for modelling complicated multi-modal distributions\n",
    "- Larger networks\n",
    "- Maximum Mean Discrepancy (MMD) to resolve sharp features like invariant masses\n",
    "- Better regularisation\n",
    "- Change data parametrization"
   ]
  }
 ],
 "metadata": {
  "kernelspec": {
   "display_name": "Python 3",
   "language": "python",
   "name": "python3"
  },
  "language_info": {
   "codemirror_mode": {
    "name": "ipython",
    "version": 3
   },
   "file_extension": ".py",
   "mimetype": "text/x-python",
   "name": "python",
   "nbconvert_exporter": "python",
   "pygments_lexer": "ipython3",
   "version": "3.8.2"
  }
 },
 "nbformat": 4,
 "nbformat_minor": 4
}
