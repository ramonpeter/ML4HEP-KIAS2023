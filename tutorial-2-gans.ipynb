{
 "cells": [
  {
   "attachments": {},
   "cell_type": "markdown",
   "metadata": {},
   "source": [
    "# Generating LHC data with GANs"
   ]
  },
  {
   "attachments": {},
   "cell_type": "markdown",
   "metadata": {},
   "source": [
    "Here, we learn using Generative Adverserial Networks (GANs) to generate LHC data."
   ]
  },
  {
   "attachments": {},
   "cell_type": "markdown",
   "metadata": {},
   "source": [
    "Background:\n",
    "- Simulations for LHC physics is a major computational task at the experiment, and will become more computationally intensive in the coming years, so if ML techniques can speed up some aspects of this then it would be very useful\n",
    "- As a proof of concept, we will show how a GAN can be optimized to generate events simulated by traditional high energy physics simulation software\n",
    "- The process we are studying is Drell-Yan: $pp\\rightarrow Z\\rightarrow \\mu\\mu$\n",
    "- Naively, the dimension of this phase space is 8D, the 4 momentum of the two final state particles\n",
    "- A GAN consists of a generative network and an adverserial network, trained through a min-max optimisation procedure\n",
    "- The generative network samples random noise from a unit Normal distribution, passes it through a dense fully connected network to produce an 8D output\n",
    "- The adverserial network then tries to classify between the generated data and the real data, and the generator is trained such that this adverserial network cannot classify between the generated data and the discriminator"
   ]
  },
  {
   "attachments": {},
   "cell_type": "markdown",
   "metadata": {},
   "source": [
    "Interesting papers:\n",
    "- Generative Adverserial Networks\n",
    "    - Ian J. Goodfellow, Jean Pouget-Abadie, Mehdi Mirza, Bing Xu, David Warde-Farley, Sherjil Ozair, Aaron Courville, Yoshua Bengio\n",
    "    - https://arxiv.org/abs/1406.2661\n",
    "- How to GAN LHC events\n",
    "    - Anja Butter, Tilman Plehn, Ramon Winterhalder\n",
    "    - https://arxiv.org/abs/1907.03764\n",
    "- How to GAN : Novel simulation methods for the LHC\n",
    "    - Ramon Winterhalder\n",
    "    - PhD thesis: https://inspirehep.net/literature/1839755"
   ]
  },
  {
   "attachments": {},
   "cell_type": "markdown",
   "metadata": {},
   "source": [
    "Outline:\n",
    "- Imports and plotting set-up\n",
    "- Study the data\n",
    "- Datasets and dataloaders\n",
    "- Building the GAN\n",
    "- Optimising the GAN\n",
    "- Study the results - let's generate some events!\n",
    "- Removing redundant degrees of freedom\n",
    "- Optimising the GAN on the reduced data\n",
    "- Study the new results\n",
    "- Concluding remarks"
   ]
  },
  {
   "attachments": {},
   "cell_type": "markdown",
   "metadata": {},
   "source": [
    "Some tips:\n",
    "- GANs can require some thought in optimising them\n",
    "- They need regularisation\n",
    "- This is due to the min-max nature of the loss function\n",
    "    - improving the generative network leads to a worsening of the classifier\n",
    "- Most practical pytorch skills you need for this work is covered in the basics tutorial at https://pytorch.org/tutorials/beginner/basics/intro.html."
   ]
  },
  {
   "attachments": {},
   "cell_type": "markdown",
   "metadata": {},
   "source": [
    "## Imports"
   ]
  },
  {
   "cell_type": "code",
   "execution_count": 1,
   "metadata": {},
   "outputs": [],
   "source": [
    "import os\n",
    "import sys\n",
    "import random\n",
    "import time\n",
    "import numpy as np\n",
    "import torch\n",
    "from torch.utils.data import Dataset\n",
    "from torch.utils.data import DataLoader\n",
    "from torch import nn\n",
    "from torch.nn import functional as F\n",
    "from torch.nn import Sequential, Linear, ReLU\n",
    "from torch.nn.utils import spectral_norm"
   ]
  },
  {
   "attachments": {},
   "cell_type": "markdown",
   "metadata": {},
   "source": [
    "### Plotting set-up"
   ]
  },
  {
   "cell_type": "code",
   "execution_count": 2,
   "metadata": {},
   "outputs": [],
   "source": [
    "from matplotlib import pyplot as plt\n",
    "import matplotlib\n",
    "import warnings\n",
    "warnings.filterwarnings(\"ignore\")\n",
    "from matplotlib.lines import Line2D\n",
    "from matplotlib.font_manager import FontProperties\n",
    "import matplotlib.colors as mcolors\n",
    "import colorsys\n",
    "\n",
    "# global plotting settings\n",
    "FONTSIZE = 18\n",
    "\n",
    "# matplotlib settings\n",
    "plt.show()\n",
    "plt.rc(\"font\", family=\"serif\", size=FONTSIZE, serif=\"Charter\")\n",
    "plt.rc(\"axes\", titlesize=\"medium\")\n",
    "plt.rc(\"text.latex\", preamble=r\"\\usepackage{amsmath}\\usepackage[bitstream-charter]{mathdesign}\")\n",
    "plt.rc(\"text\", usetex=True)\n",
    "\n",
    "# colors\n",
    "colors = [f\"C{i}\" for i in range(5)]"
   ]
  },
  {
   "cell_type": "code",
   "execution_count": null,
   "metadata": {},
   "outputs": [],
   "source": [
    "# global plotting settings\n",
    "FONTSIZE = 18\n",
    "\n",
    "# matplotlib settings\n",
    "plt.show()\n",
    "plt.rc(\"font\", family=\"serif\", size=FONTSIZE, serif=\"Charter\")\n",
    "plt.rc(\"axes\", titlesize=\"medium\")\n",
    "plt.rc(\"text.latex\", preamble=r\"\\usepackage{amsmath}\\usepackage[bitstream-charter]{mathdesign}\")\n",
    "plt.rc(\"text\", usetex=True)\n",
    "\n",
    "# colors\n",
    "colors = [f\"C{i}\" for i in range(5)]"
   ]
  },
  {
   "attachments": {},
   "cell_type": "markdown",
   "metadata": {},
   "source": [
    "## Loading the data"
   ]
  },
  {
   "attachments": {},
   "cell_type": "markdown",
   "metadata": {},
   "source": [
    "We can load the data from here:"
   ]
  },
  {
   "cell_type": "code",
   "execution_count": 3,
   "metadata": {},
   "outputs": [],
   "source": [
    "dy_trn_data = np.load( 'datasets/tutorial-2-data/dy_trn_data.npy' )\n",
    "dy_val_data = np.load( 'datasets/tutorial-2-data/dy_val_data.npy' )\n",
    "dy_tst_data = np.load( 'datasets/tutorial-2-data/dy_tst_data.npy' )"
   ]
  },
  {
   "cell_type": "code",
   "execution_count": 4,
   "metadata": {},
   "outputs": [
    {
     "data": {
      "text/plain": [
       "((1384081, 8), (296588, 8), (296588, 8))"
      ]
     },
     "execution_count": 4,
     "metadata": {},
     "output_type": "execute_result"
    }
   ],
   "source": [
    "dy_trn_data.shape, dy_val_data.shape, dy_tst_data.shape"
   ]
  },
  {
   "attachments": {},
   "cell_type": "markdown",
   "metadata": {},
   "source": [
    "Each element of the data has 8 entries, corresponding to the 4-momenta of each muon in the process.\n",
    "\n",
    "Each entry has the form $[E_1, p_{x,1}, p_{y,1}, p_{z,1}, E_2, p_{x,2}, p_{y,2}, p_{z,2}]$."
   ]
  },
  {
   "attachments": {},
   "cell_type": "markdown",
   "metadata": {},
   "source": [
    "## Study the data"
   ]
  },
  {
   "attachments": {},
   "cell_type": "markdown",
   "metadata": {},
   "source": [
    "We need to be able to calculate the invariant mass of each event, and the $p_T$ of the event and the jets.\n",
    "\n",
    "Let's write a function for this:"
   ]
  },
  {
   "cell_type": "code",
   "execution_count": 340,
   "metadata": {},
   "outputs": [],
   "source": [
    "def get_obs( event ):\n",
    "    \n",
    "    jet1_4m = event[:,0:4]\n",
    "    jet2_4m = event[:,4:]\n",
    "    evnt_4m = np.sum( (jet1_4m,jet2_4m), axis=0 )\n",
    "    \n",
    "    evnt_im = np.sqrt( np.sum( ( evnt_4m[:,0]**2, -evnt_4m[:,1]**2, -evnt_4m[:,2]**2, -evnt_4m[:,3]**2 ), axis=0 ) )\n",
    "    \n",
    "    evnt_pt = np.sqrt( evnt_4m[:,1]**2 + evnt_4m[:,2]**2 )\n",
    "    jet1_pt = np.sqrt( jet1_4m[:,1]**2 + jet1_4m[:,2]**2 )\n",
    "    jet2_pt = np.sqrt( jet2_4m[:,1]**2 + jet2_4m[:,2]**2 )\n",
    "    \n",
    "    return evnt_im, evnt_pt, jet1_pt, jet2_pt"
   ]
  },
  {
   "attachments": {},
   "cell_type": "markdown",
   "metadata": {},
   "source": [
    "Now test it:"
   ]
  },
  {
   "cell_type": "code",
   "execution_count": 6,
   "metadata": {},
   "outputs": [
    {
     "data": {
      "text/plain": [
       "(array([90.98955316, 91.3711254 ]),\n",
       " array([0., 0.]),\n",
       " array([44.32344982, 35.10745113]),\n",
       " array([44.32344982, 35.10745113]))"
      ]
     },
     "execution_count": 6,
     "metadata": {},
     "output_type": "execute_result"
    }
   ],
   "source": [
    "get_obs( dy_trn_data[0:2] )"
   ]
  },
  {
   "attachments": {},
   "cell_type": "markdown",
   "metadata": {},
   "source": [
    "The $p_T$ of the events will always be zero here due to the fact that the initial incoming protons have no transverse momentum."
   ]
  },
  {
   "attachments": {},
   "cell_type": "markdown",
   "metadata": {},
   "source": [
    "Let's get the observables for the whole dataset:"
   ]
  },
  {
   "cell_type": "code",
   "execution_count": 7,
   "metadata": {},
   "outputs": [],
   "source": [
    "trn_evnt_ims, trn_evnt_pts, trn_jet1_pts, trn_jet2_pts = get_obs( dy_trn_data )\n",
    "val_evnt_ims, val_evnt_pts, val_jet1_pts, val_jet2_pts = get_obs( dy_val_data )\n",
    "tst_evnt_ims, tst_evnt_pts, tst_jet1_pts, tst_jet2_pts = get_obs( dy_tst_data )"
   ]
  },
  {
   "cell_type": "code",
   "execution_count": 328,
   "metadata": {},
   "outputs": [
    {
     "data": {
      "text/plain": [
       "(1384081,)"
      ]
     },
     "execution_count": 328,
     "metadata": {},
     "output_type": "execute_result"
    }
   ],
   "source": [
    "trn_evnt_ims.shape"
   ]
  },
  {
   "attachments": {},
   "cell_type": "markdown",
   "metadata": {},
   "source": [
    "Let's plot the invariant mass of the events:"
   ]
  },
  {
   "cell_type": "code",
   "execution_count": 9,
   "metadata": {},
   "outputs": [
    {
     "data": {
      "image/png": "[encoded data removed]",
      "text/plain": [
       "<Figure size 432x360 with 1 Axes>"
      ]
     },
     "metadata": {
      "needs_background": "light"
     },
     "output_type": "display_data"
    }
   ],
   "source": [
    "fig, axs = plt.subplots( figsize=(6,5) )\n",
    "\n",
    "axs.hist( trn_evnt_ims, alpha=0.5, density=True, bins=15 )\n",
    "\n",
    "axs.set_xlabel( \"$m_{\\mu\\mu}$ [GeV]\")\n",
    "axs.set_ylabel( \"\\#events\")\n",
    "\n",
    "yticks = [  ]\n",
    "axs.set_yticklabels( yticks)\n",
    "\n",
    "xticks = [ int(x) for x in axs.get_xticks() ]\n",
    "axs.set_xticklabels( xticks)\n",
    "\n",
    "fig.tight_layout()\n",
    "fig.show()"
   ]
  },
  {
   "attachments": {},
   "cell_type": "markdown",
   "metadata": {},
   "source": [
    "Here we see the clear $Z$ mass peak at $\\simeq 90$ GeV."
   ]
  },
  {
   "attachments": {},
   "cell_type": "markdown",
   "metadata": {},
   "source": [
    "Now let's look at $p_T$ distributions:"
   ]
  },
  {
   "cell_type": "code",
   "execution_count": 10,
   "metadata": {},
   "outputs": [
    {
     "data": {
      "image/png": "[encoded data removed]",
      "text/plain": [
       "<Figure size 432x360 with 1 Axes>"
      ]
     },
     "metadata": {
      "needs_background": "light"
     },
     "output_type": "display_data"
    }
   ],
   "source": [
    "fig, axs = plt.subplots( figsize=(6,5) )\n",
    "\n",
    "axs.hist( trn_jet1_pts, alpha=0.5, density=True, bins=15 )\n",
    "axs.hist( trn_jet2_pts, alpha=0.5, density=True, bins=15 )\n",
    "\n",
    "axs.set_xlabel( \"$p_\\text{T}$ [GeV]\")\n",
    "axs.set_ylabel( \"\\#events\")\n",
    "\n",
    "yticks = [  ]\n",
    "axs.set_yticklabels(yticks)\n",
    "\n",
    "xticks = [ int(x) for x in axs.get_xticks() ]\n",
    "axs.set_xticklabels( xticks)\n",
    "\n",
    "fig.tight_layout()\n",
    "fig.show()"
   ]
  },
  {
   "attachments": {},
   "cell_type": "markdown",
   "metadata": {},
   "source": [
    "These distributions are completely overlapping with a peak near $m_{\\mu\\mu}/2$."
   ]
  },
  {
   "attachments": {},
   "cell_type": "markdown",
   "metadata": {},
   "source": [
    "## Datasets and dataloaders"
   ]
  },
  {
   "attachments": {},
   "cell_type": "markdown",
   "metadata": {},
   "source": [
    "This time we only need the dataloader to return the data, no labels, so it's pretty simple."
   ]
  },
  {
   "cell_type": "code",
   "execution_count": 11,
   "metadata": {},
   "outputs": [],
   "source": [
    "class drell_yan_data( Dataset ):\n",
    "    \n",
    "    def __init__( self, data ):\n",
    "        self.data = data\n",
    "\n",
    "    def __len__(self):\n",
    "        return self.data.shape[0]\n",
    "\n",
    "    def __getitem__(self, idx):\n",
    "        return self.data[idx]"
   ]
  },
  {
   "attachments": {},
   "cell_type": "markdown",
   "metadata": {},
   "source": [
    "Let's normalise the data a little bit by dividing all dimensionful quantities by $100$ GeV."
   ]
  },
  {
   "cell_type": "code",
   "execution_count": 12,
   "metadata": {},
   "outputs": [],
   "source": [
    "dy_trn_data_p = torch.Tensor( dy_trn_data / 100 )\n",
    "dy_val_data_p = torch.Tensor( dy_val_data / 100 )\n",
    "dy_tst_data_p = torch.Tensor( dy_tst_data / 100 )"
   ]
  },
  {
   "cell_type": "code",
   "execution_count": 13,
   "metadata": {},
   "outputs": [],
   "source": [
    "trn_dataset = drell_yan_data( dy_trn_data_p )\n",
    "val_dataset = drell_yan_data( dy_val_data_p )\n",
    "tst_dataset = drell_yan_data( dy_tst_data_p )"
   ]
  },
  {
   "attachments": {},
   "cell_type": "markdown",
   "metadata": {},
   "source": [
    "Using a bigger batch size this time, this helps for generative networks."
   ]
  },
  {
   "cell_type": "code",
   "execution_count": 14,
   "metadata": {},
   "outputs": [],
   "source": [
    "trn_dataloader = DataLoader( trn_dataset, batch_size=2500, shuffle=True )\n",
    "val_dataloader = DataLoader( val_dataset, batch_size=2500, shuffle=True )\n",
    "tst_dataloader = DataLoader( tst_dataset, batch_size=2500, shuffle=True )"
   ]
  },
  {
   "attachments": {},
   "cell_type": "markdown",
   "metadata": {},
   "source": [
    "## Building the GAN"
   ]
  },
  {
   "attachments": {},
   "cell_type": "markdown",
   "metadata": {},
   "source": [
    "We need two networks, a generative network and an adverserial network:"
   ]
  },
  {
   "cell_type": "code",
   "execution_count": null,
   "metadata": {},
   "outputs": [],
   "source": [
    "# TODO"
   ]
  },
  {
   "attachments": {},
   "cell_type": "markdown",
   "metadata": {},
   "source": [
    "## Optimizing the GAN"
   ]
  },
  {
   "attachments": {},
   "cell_type": "markdown",
   "metadata": {},
   "source": [
    "We need two loss functions, one for the generative part and one for the adverserial.\n",
    "\n",
    "The adverserial net is just a classifier, so it's loss is simple, binary cross entropy.\n",
    "\n",
    "For the generative network we can also use the binary cross entropy, where the labels for the generated and true data are:\n",
    "- 0 for generated data\n",
    "- 1 for true data"
   ]
  },
  {
   "attachments": {},
   "cell_type": "markdown",
   "metadata": {},
   "source": [
    "For the loss function we use the BCEWithLogitsLoss loss function.\n",
    "\n",
    "This passes the input through a sigmoid before putting it into the BCE loss.  The logarithms from the BCE and the exponentials in the sigmoids are then treated in more numerically stable way.\n",
    "\n",
    "To get the correct loss function for updates of the generative network, we are required to compute the loss using fake data and the real labels.\n",
    "\n",
    "Lastly, we of course now need to pass the models, optimisers, and schedulers for both networks to the train_epoch function.\n",
    "\n",
    "Check it out here:  https://pytorch.org/docs/stable/generated/torch.nn.BCEWithLogitsLoss.html"
   ]
  },
  {
   "cell_type": "code",
   "execution_count": 18,
   "metadata": {},
   "outputs": [],
   "source": [
    "loss_fn = nn.BCEWithLogitsLoss()"
   ]
  },
  {
   "cell_type": "code",
   "execution_count": 332,
   "metadata": {},
   "outputs": [],
   "source": [
    "#TODO: define training of one epoch"
   ]
  },
  {
   "attachments": {},
   "cell_type": "markdown",
   "metadata": {},
   "source": [
    "To optimize the network we need separate optimizers for each model, and we also add a learning rate scheduler regulate the training further."
   ]
  },
  {
   "cell_type": "code",
   "execution_count": null,
   "metadata": {},
   "outputs": [],
   "source": [
    "#TODO: write training loop"
   ]
  },
  {
   "attachments": {},
   "cell_type": "markdown",
   "metadata": {},
   "source": [
    "## Study the results"
   ]
  },
  {
   "attachments": {},
   "cell_type": "markdown",
   "metadata": {},
   "source": [
    "First let's plot the training and validation losses to see how they look."
   ]
  },
  {
   "cell_type": "code",
   "execution_count": null,
   "metadata": {},
   "outputs": [],
   "source": [
    "#TODO"
   ]
  },
  {
   "attachments": {},
   "cell_type": "markdown",
   "metadata": {},
   "source": [
    "## Let's generate some events!"
   ]
  },
  {
   "attachments": {},
   "cell_type": "markdown",
   "metadata": {},
   "source": [
    "We first need to generate random data from the unit normal distribution, the same used during training, with the correct shape.  Here we use 10k samples."
   ]
  },
  {
   "attachments": {},
   "cell_type": "markdown",
   "metadata": {},
   "source": [
    "TODOs:\n",
    "1. Plot the energy distribution of the first jet, for both real and generated data\n",
    "2. Do the same for $p_y$ of the first jet\n",
    "3. Check $p_T$ of first jet\n",
    "4. Check the invariant mass of $\\mu\\mu$"
   ]
  },
  {
   "attachments": {},
   "cell_type": "markdown",
   "metadata": {},
   "source": [
    "## Concluding remarks"
   ]
  },
  {
   "attachments": {},
   "cell_type": "markdown",
   "metadata": {},
   "source": [
    "What can we try to improve?"
   ]
  }
 ],
 "metadata": {
  "kernelspec": {
   "display_name": "Python 3",
   "language": "python",
   "name": "python3"
  },
  "language_info": {
   "codemirror_mode": {
    "name": "ipython",
    "version": 3
   },
   "file_extension": ".py",
   "mimetype": "text/x-python",
   "name": "python",
   "nbconvert_exporter": "python",
   "pygments_lexer": "ipython3",
   "version": "3.8.2"
  }
 },
 "nbformat": 4,
 "nbformat_minor": 4
}
